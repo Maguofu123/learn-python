{
 "cells": [
  {
   "cell_type": "code",
   "execution_count": 12,
   "id": "48fea683",
   "metadata": {},
   "outputs": [],
   "source": [
    "import numpy as np\n",
    "import os\n",
    "import pickle"
   ]
  },
  {
   "cell_type": "code",
   "execution_count": null,
   "id": "f9f0d3c9",
   "metadata": {},
   "outputs": [],
   "source": [
    "#IO流\n",
    "os.path.abspath('.')\n",
    "os.path.isabs('..')\n",
    "os.path.abspath('.')\n",
    "path = os.path.abspath('.')\n",
    "path\n",
    "os.path.basename(path), os.path.dirname(path), path\n",
    "os.path.abspath('.'),  path"
   ]
  },
  {
   "cell_type": "code",
   "execution_count": 192,
   "id": "6d2c75b8",
   "metadata": {},
   "outputs": [
    {
     "name": "stdout",
     "output_type": "stream",
     "text": [
      "[b'11']\n",
      "b''\n"
     ]
    }
   ],
   "source": [
    "#读取\n",
    "f = open('a.txt', mode = 'rb')\n",
    "#print(f.read())\n",
    "#print(f.read().decode('utf-8'))\n",
    "print(f.readlines())\n",
    "print(f.read())\n",
    "f.close()"
   ]
  },
  {
   "cell_type": "code",
   "execution_count": 60,
   "id": "f8594cec",
   "metadata": {},
   "outputs": [
    {
     "name": "stdout",
     "output_type": "stream",
     "text": [
      "0\n",
      "b'\\xe6\\xa1\\x86\\xe6\\x9e'\n",
      "5\n",
      "62\n",
      "62\n",
      "b'\\x8f\\xe6\\x8d\\x9f\\xe5\\xa4\\xb1\\xef\\xbc\\x8c'\n"
     ]
    }
   ],
   "source": [
    "#写入\n",
    "f = open('a.txt', mode = 'rb')\n",
    "print(f.tell())\n",
    "print(f.read(5))\n",
    "print(f.tell())\n",
    "print(f.seek(-10, 2))\n",
    "print(f.tell())\n",
    "print(f.read(10))\n",
    "f.close()"
   ]
  },
  {
   "cell_type": "code",
   "execution_count": 1,
   "id": "927bb58d",
   "metadata": {},
   "outputs": [
    {
     "name": "stdout",
     "output_type": "stream",
     "text": [
      "98\n"
     ]
    }
   ],
   "source": [
    "#with..as 上下文管理器\n",
    "with open('a.txt', 'a', encoding = 'utf-8') as f:\n",
    "    f.write('\\ntest')\n",
    "    print(f.tell())"
   ]
  },
  {
   "cell_type": "code",
   "execution_count": 21,
   "id": "aedf712b",
   "metadata": {},
   "outputs": [
    {
     "name": "stdout",
     "output_type": "stream",
     "text": [
      "[1, 2, 3]\n"
     ]
    }
   ],
   "source": [
    "#pickle持久化储存\n",
    "l = [1, 2, 3]\n",
    "#l = pickle.dumps(l)\n",
    "#print(l)\n",
    "#l = pickle.loads(l)\n",
    "#print(l)\n",
    "with open('a.txt', 'wb') as f:\n",
    "    pickle.dump(l, f)\n",
    "with open('a.txt', 'rb') as f2:\n",
    "    t = pickle.load(f2)\n",
    "    print(t)"
   ]
  },
  {
   "cell_type": "code",
   "execution_count": 27,
   "id": "0905e953",
   "metadata": {},
   "outputs": [
    {
     "name": "stdout",
     "output_type": "stream",
     "text": [
      "b'test123'\n"
     ]
    }
   ],
   "source": [
    "with open('..\\\\abc\\\\b.txt', 'rb') as f:\n",
    "    print(f.read())"
   ]
  }
 ],
 "metadata": {
  "kernelspec": {
   "display_name": "Python [conda env:dl] *",
   "language": "python",
   "name": "conda-env-dl-py"
  },
  "language_info": {
   "codemirror_mode": {
    "name": "ipython",
    "version": 3
   },
   "file_extension": ".py",
   "mimetype": "text/x-python",
   "name": "python",
   "nbconvert_exporter": "python",
   "pygments_lexer": "ipython3",
   "version": "3.8.12"
  }
 },
 "nbformat": 4,
 "nbformat_minor": 5
}
